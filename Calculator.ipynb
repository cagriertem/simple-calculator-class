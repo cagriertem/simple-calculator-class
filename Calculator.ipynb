{
 "cells": [
  {
   "cell_type": "code",
   "execution_count": 4,
   "id": "44861b10",
   "metadata": {},
   "outputs": [
    {
     "name": "stdout",
     "output_type": "stream",
     "text": [
      "Please select an operation -\n",
      "1. Add\n",
      "2. Subtract\n",
      "3. Multiply\n",
      "4. Divide\n",
      "\n",
      "Select operations from 1, 2, 3, 4: 3\n",
      "10 * 5 = 50\n"
     ]
    }
   ],
   "source": [
    "class Calculator:\n",
    "    def __init__(self, number_1, number_2):\n",
    "        self.number_1 = number_1\n",
    "        self.number_2 = number_2\n",
    "\n",
    "    # Function to add two numbers\n",
    "    def add(self):\n",
    "        return self.number_1 + self.number_2\n",
    "\n",
    "    # Function to subtract two numbers\n",
    "    def subtract(self):\n",
    "        return self.number_1 - self.number_2\n",
    "\n",
    "    # Function to multiply two numbers\n",
    "    def multiply(self):\n",
    "        return self.number_1 * self.number_2\n",
    "\n",
    "    # Function to divide two numbers\n",
    "    def divide(self):\n",
    "        return self.number_1 / self.number_2\n",
    "\n",
    "    # Function to select and perform the operation\n",
    "    def perform_operation(self):\n",
    "        print(\"Please select an operation -\\n\" \\\n",
    "            \"1. Add\\n\" \\\n",
    "            \"2. Subtract\\n\" \\\n",
    "            \"3. Multiply\\n\" \\\n",
    "            \"4. Divide\\n\")\n",
    "        operation = int(input(\"Select operations from 1, 2, 3, 4: \"))\n",
    "\n",
    "        if operation == 1:\n",
    "            print(self.number_1, \"+\", self.number_2, \"=\", self.add())\n",
    "\n",
    "        elif operation == 2:\n",
    "            print(self.number_1, \"-\", self.number_2, \"=\", self.subtract())\n",
    "\n",
    "        elif operation == 3:\n",
    "            print(self.number_1, \"*\", self.number_2, \"=\", self.multiply())\n",
    "\n",
    "        elif operation == 4:\n",
    "            print(self.number_1, \"/\", self.number_2, \"=\", self.divide())\n",
    "\n",
    "        else:\n",
    "            print(\"Invalid input\")\n",
    "\n",
    "# Example usage:\n",
    "num1 = 10\n",
    "num2 = 5\n",
    "calc = Calculator(num1, num2)\n",
    "calc.perform_operation()"
   ]
  },
  {
   "cell_type": "code",
   "execution_count": null,
   "id": "b0e8c511",
   "metadata": {},
   "outputs": [],
   "source": []
  }
 ],
 "metadata": {
  "kernelspec": {
   "display_name": "Python 3 (ipykernel)",
   "language": "python",
   "name": "python3"
  },
  "language_info": {
   "codemirror_mode": {
    "name": "ipython",
    "version": 3
   },
   "file_extension": ".py",
   "mimetype": "text/x-python",
   "name": "python",
   "nbconvert_exporter": "python",
   "pygments_lexer": "ipython3",
   "version": "3.10.9"
  }
 },
 "nbformat": 4,
 "nbformat_minor": 5
}
